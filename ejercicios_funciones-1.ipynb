{
 "cells": [
  {
   "cell_type": "code",
   "execution_count": 1,
   "metadata": {},
   "outputs": [],
   "source": [
    "import math"
   ]
  },
  {
   "cell_type": "code",
   "execution_count": 12,
   "metadata": {},
   "outputs": [
    {
     "name": "stdout",
     "output_type": "stream",
     "text": [
      "El area del círculo es 78.53981633974483\n"
     ]
    }
   ],
   "source": [
    "# 1. Calcular el área de un círculo.\n",
    "\n",
    "# Descripción: Crea una función llamada calcular_area_circulo que tome el radio como parámetro y devuelva el área del círculo.\n",
    "\n",
    "# NOTA: Os dejamos aquí un link para recordar comose calculaba el área de un círculo.\n",
    "\n",
    "def calcular_area_circulo(radio):\n",
    "    area = math.pi * radio ** 2\n",
    "    return area\n",
    "\n",
    "radio = 5\n",
    "area = calcular_area_circulo(radio)\n",
    "print(f\"El area del círculo es {area}\")"
   ]
  },
  {
   "cell_type": "code",
   "execution_count": 13,
   "metadata": {},
   "outputs": [
    {
     "name": "stdout",
     "output_type": "stream",
     "text": [
      "La cantidad de caracteres en la cadena es 11\n"
     ]
    }
   ],
   "source": [
    "# 2. Contar la cantidad de caracteres en una cadena.\n",
    "\n",
    "# Descripción: Crea una función llamada contar_caracteres que tome una cadena como parámetro y devuelva la cantidad de caracteres que contiene.\n",
    "def contar_caracteres(cadena):\n",
    "    return len(cadena)\n",
    "\n",
    "cadena = \"Hola, mundo\"\n",
    "resultado = contar_caracteres(cadena)\n",
    "print(f\"La cantidad de caracteres en la cadena es {resultado}\")\n"
   ]
  },
  {
   "cell_type": "code",
   "execution_count": 17,
   "metadata": {},
   "outputs": [],
   "source": [
    "# 3. Determinar si una cadena es un palíndromo.\n",
    "\n",
    "# Descripción: Crea una función llamada es_palindromo que tome una cadena como parámetro y devuelva True si es un palíndromo, o False si no lo es.\n",
    "\n",
    "# ¿Qué es un palíndromo? Palabra o secuencia de caracteres que se lee igual de izq a drch que de drch a izq.\n",
    "\n",
    "def es_palindromo(cadena):\n",
    "    cadena_limpia = ''.join(cadena.lower()) \n",
    "    return cadena_limpia\n",
    "\n",
    "cadena = \"A ti no, bonita\"\n"
   ]
  },
  {
   "cell_type": "code",
   "execution_count": 18,
   "metadata": {},
   "outputs": [
    {
     "name": "stdout",
     "output_type": "stream",
     "text": [
      "El promedio es 35.0\n"
     ]
    }
   ],
   "source": [
    "# 4. Calcular el promedio de una lista de números.\n",
    "\n",
    "# Descripción: Crea una función llamada calcular_promedio que tome una lista de números como parámetro y devuelva el promedio de todos sus elementos.\n",
    "\n",
    "def calcular_promedio(lista_numeros):\n",
    "    promedio = sum(lista_numeros) / len(lista_numeros)\n",
    "    return promedio\n",
    "\n",
    "lista_numeros = [10, 20, 30, 40, 50,60]\n",
    "promedio = calcular_promedio(lista_numeros)\n",
    "print(f\"El promedio es {promedio}\")\n",
    "    "
   ]
  },
  {
   "cell_type": "code",
   "execution_count": 25,
   "metadata": {},
   "outputs": [
    {
     "name": "stdout",
     "output_type": "stream",
     "text": [
      "El beneficio final después del interés compuesto es: €628.894626777442\n"
     ]
    }
   ],
   "source": [
    "# 5. Calcular el interés compuesto.\n",
    "\n",
    "# Descripción: Crea una función llamada calcular_interes_compuesto que tome el capital inicial, la tasa de interés y el número de períodos como parámetros y devuelva el beneficio final después del interés compuesto.\n",
    "\n",
    "def calcular_interes_compuesto(capital_inicial, tasa_interes, periodos):\n",
    "    \n",
    "    # Fórmula del interés compuesto: A = P * (1 + r) ^ n\n",
    "    # Donde:\n",
    "    # P = capital inicial\n",
    "    # r = tasa de interés (expresada como decimal)\n",
    "    # n = número de períodos\n",
    "    capital_final = capital_inicial * (1 + tasa_interes) ** periodos\n",
    "    \n",
    "    # Calculamos el beneficio final restando el capital inicial del monto final\n",
    "    beneficio = capital_final - capital_inicial\n",
    "    return beneficio\n",
    "\n",
    "# Ejemplo de uso\n",
    "capital_inicial = 1000  # Capital inicial de €1000\n",
    "tasa_interes = 0.05     # Tasa de interés del 5% anual (0.05)\n",
    "periodos = 10           # 10 años\n",
    "\n",
    "beneficio = calcular_interes_compuesto(capital_inicial, tasa_interes, periodos)\n",
    "print(f\"El beneficio final después del interés compuesto es: €{beneficio}\")\n",
    "\n"
   ]
  },
  {
   "cell_type": "code",
   "execution_count": null,
   "metadata": {},
   "outputs": [],
   "source": [
    "# 6. alidar si una palabra es un anagrama de otra.\n",
    "\n",
    "#Descripción: Crea una función llamada es_anagrama que tome dos palabras como parámetros y devuelva True si una es un anagrama de la otra, o False si no lo es.\n",
    "\n",
    "# ¿Qué es un anagrama?.\n",
    "\n"
   ]
  },
  {
   "cell_type": "code",
   "execution_count": null,
   "metadata": {},
   "outputs": [],
   "source": []
  },
  {
   "cell_type": "code",
   "execution_count": null,
   "metadata": {},
   "outputs": [],
   "source": []
  },
  {
   "cell_type": "code",
   "execution_count": null,
   "metadata": {},
   "outputs": [],
   "source": []
  },
  {
   "cell_type": "code",
   "execution_count": null,
   "metadata": {},
   "outputs": [],
   "source": []
  },
  {
   "cell_type": "code",
   "execution_count": null,
   "metadata": {},
   "outputs": [],
   "source": []
  },
  {
   "cell_type": "code",
   "execution_count": null,
   "metadata": {},
   "outputs": [],
   "source": []
  }
 ],
 "metadata": {
  "kernelspec": {
   "display_name": "rosana_conda",
   "language": "python",
   "name": "python3"
  },
  "language_info": {
   "codemirror_mode": {
    "name": "ipython",
    "version": 3
   },
   "file_extension": ".py",
   "mimetype": "text/x-python",
   "name": "python",
   "nbconvert_exporter": "python",
   "pygments_lexer": "ipython3",
   "version": "3.12.6"
  }
 },
 "nbformat": 4,
 "nbformat_minor": 2
}
