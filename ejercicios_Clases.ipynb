{
 "cells": [
  {
   "cell_type": "code",
   "execution_count": 4,
   "metadata": {},
   "outputs": [],
   "source": [
    "from datetime import datetime"
   ]
  },
  {
   "cell_type": "code",
   "execution_count": 2,
   "metadata": {},
   "outputs": [
    {
     "ename": "SyntaxError",
     "evalue": "invalid syntax (900470011.py, line 51)",
     "output_type": "error",
     "traceback": [
      "\u001b[0;36m  Cell \u001b[0;32mIn[2], line 51\u001b[0;36m\u001b[0m\n\u001b[0;31m    antiguedad_anos = ano_actual -\u001b[0m\n\u001b[0m                                   ^\u001b[0m\n\u001b[0;31mSyntaxError\u001b[0m\u001b[0;31m:\u001b[0m invalid syntax\n"
     ]
    }
   ],
   "source": [
    "# 1. En este ejercicio de pair programming, vamos a crear una clase para gestionar la información de los empleados de nuestra empresa. Siguiendo las indicaciones del jefe, necesitamos organizar los datos de cada empleado de manera más estructurada.\n",
    "\n",
    "# La clase Empleados permite gestionar información relacionada con los empleados de una empresa, con las siguientes características:\n",
    "\n",
    "# Debes crear una clase llamada \"Empleados\" que tenga los siguientes atributos: nombre, apellidos, edad, posicion, año , vacaciones(cantidad de días de vacaciones que le quedan al empleado) y herramientas.\n",
    "\n",
    "# El constructor __init__ debe recibir estos atributos como parámetros y asignarlos a los respectivos atributos de la clase.\n",
    "\n",
    "# Los atributos representan la información personal y profesional de un empleado, como su nombre completo, edad, posición en la empresa, año de ingreso, días de vacaciones disponibles y una lista de herramientas que el empleado sabe utilizar.\n",
    "\n",
    "\n",
    "class Empleados:\n",
    "    def __init__(self, nombre, apellidos, edad, posicion, ano, vacaciones, herramientas):\n",
    "        \n",
    "        self.nombre = nombre\n",
    "        self.apellidos = apellidos\n",
    "        self.edad = edad\n",
    "        self.posicion =  posicion\n",
    "        self.ano = ano\n",
    "        self.vacaciones = vacaciones\n",
    "        self.herramientas = herramientas\n",
    "        \n",
    "    def descripcion(self):\n",
    "        return f\"Al empleado {self.nombre} {self.apellidos} cuya posición es {self.posicion} que ingresó en la empresa el año {self.ano} le quedan {self.vacaciones} días de vacaciones.\"\n",
    "    \n",
    "# 2. Método cambiando_posicion: Verifica las herramientas que el empleado tiene en su lista y devuelve un mensaje específico basado en las herramientas. Puede elogiar al empleado si tiene \"Python\" en su lista o sugerirle que deje de usar \"Excel\" y aprenda Python. Los pasos para resolver este ejercicio son:\n",
    "\n",
    "# Iterar a través de las Herramientas: La función debe recorrer la lista de herramientas (self.herramientas) del empleado.\n",
    "\n",
    "# Evaluar Cada Herramienta: Para cada herramienta en la lista, verifica si es igual a \"Python\" o \"Excel\" (en minúsculas).\n",
    "\n",
    "# herramientas = [\"Excel\", \"tableau\", \"Power BI\", \"Python\", \"SQL\"]\n",
    "\n",
    "    def cambiando_posicion(self):\n",
    "        for herramienta in self.herramientas:\n",
    "            if \"Python\" in self.herramientas:\n",
    "                return f\"¡¡Felicidades {self.nombre} por usar Python!!\"\n",
    "            elif \"Excel\" in self.herramientas:\n",
    "                return f\"{self.nombre}, deberías de dejar de usar Excel y aprender Python.\"\n",
    "                    \n",
    "# Método calcular_antiguedad: Calcula la antigüedad del empleado en años y meses desde el año de ingreso hasta la fecha actual.\n",
    "\n",
    "# Calcular la Antigüedad en Años y Meses: Utiliza el módulo datetime de Python para obtener el año actual y el mes actual.\n",
    "\n",
    "# Generar el Mensaje de Antigüedad: Usa los valores calculados para años y meses de antigüedad para generar un mensaje descriptivo. Por ejemplo, \"Juan lleva 5 años y 3 meses en la empresa\".\n",
    "  \n",
    "    def calcular_antigüedad(self):\n",
    "        ano_actual = datetime.now().year\n",
    "        mes_actual = datetime.now().month\n",
    "        \n",
    "        \n",
    "        \n",
    "        \n",
    "        \n",
    "            \n",
    "            \n",
    "            \n",
    "            \n",
    "            "
   ]
  },
  {
   "cell_type": "code",
   "execution_count": 10,
   "metadata": {},
   "outputs": [
    {
     "name": "stdout",
     "output_type": "stream",
     "text": [
      "2024-10-02 11:36:33.333995\n"
     ]
    }
   ],
   "source": [
    "fecha_actual = datetime.now()\n",
    "print(fecha_actual)"
   ]
  }
 ],
 "metadata": {
  "kernelspec": {
   "display_name": "rosana_conda",
   "language": "python",
   "name": "python3"
  },
  "language_info": {
   "codemirror_mode": {
    "name": "ipython",
    "version": 3
   },
   "file_extension": ".py",
   "mimetype": "text/x-python",
   "name": "python",
   "nbconvert_exporter": "python",
   "pygments_lexer": "ipython3",
   "version": "3.12.6"
  }
 },
 "nbformat": 4,
 "nbformat_minor": 2
}
